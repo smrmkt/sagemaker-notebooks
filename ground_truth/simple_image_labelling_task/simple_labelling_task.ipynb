{
 "cells": [
  {
   "cell_type": "markdown",
   "metadata": {},
   "source": [
    "# Ground Truth でシンプルな画像ラベリングタスクを実施する\n",
    "\n",
    "このノートブックでは，Ground Truth を使った簡単なラベリングタスクを実際に行ってみることで，どのように Ground Truth を使うか理解することを目的とします．"
   ]
  },
  {
   "cell_type": "markdown",
   "metadata": {},
   "source": [
    "## セットアップ\n",
    "\n",
    "まずラベリングジョブを行うための IAM ポリシー，および データを作成します．\n"
   ]
  },
  {
   "cell_type": "markdown",
   "metadata": {},
   "source": [
    "### ポリシーの準備\n",
    "\n",
    "[IAM 管理ページ](https://console.aws.amazon.com/iam/home?region=us-east-1#/users) に移動して，ラベリングジョブを行うユーザーに対して，以下のポリシーを付与してください．この作業は，あらかじめハンズオンの前に管理者側で実施しておくことを推奨します．\n",
    "\n",
    "- AmazonCognitoPowerUser ポリシー\n",
    "- AWSLambdaFullAccess ポリシー"
   ]
  },
  {
   "cell_type": "markdown",
   "metadata": {},
   "source": [
    "### データのセットアップ\n",
    "\n",
    "データについては，以下のコマンドで処理対象のデータをダウンロードして，中身を確認します．"
   ]
  },
  {
   "cell_type": "code",
   "execution_count": null,
   "metadata": {},
   "outputs": [],
   "source": [
    "!rm -rf data && aws s3 cp s3://makotosh-dataset/animal.zip ./data/ && unzip data/animal.zip -d data/"
   ]
  },
  {
   "cell_type": "code",
   "execution_count": null,
   "metadata": {},
   "outputs": [],
   "source": [
    "% matplotlib inline \n",
    "\n",
    "from PIL import Image\n",
    "import matplotlib.pyplot as plt\n",
    "import numpy as np\n",
    "\n",
    "im = Image.open('data/animal/cat/cat001.jpg', 'r')\n",
    "plt.imshow(np.array(im))"
   ]
  },
  {
   "cell_type": "markdown",
   "metadata": {},
   "source": [
    "続いて，ジョブを実行する際にファイル一覧を記述する，manifest.json ファイルを作成します．"
   ]
  },
  {
   "cell_type": "code",
   "execution_count": null,
   "metadata": {},
   "outputs": [],
   "source": [
    "import os\n",
    "import sagemaker\n",
    "\n",
    "bucket = sagemaker_session.default_bucket()\n",
    "pathes = []\n",
    "for root, dirs, files in os.walk('data'):\n",
    "        for file in files:\n",
    "            if file.endswith('jpg'):\n",
    "                pathes.append(os.path.join('s3://', bucket, JOB_NAME, root , file))\n",
    "\n",
    "with open('data/animal/manifest.json', 'w') as f:\n",
    "    for path in pathes:\n",
    "        line = '{{\"source-ref\": \"{path}\"}}\\n'.format(path=path) \n",
    "        f.write(line)"
   ]
  },
  {
   "cell_type": "code",
   "execution_count": null,
   "metadata": {},
   "outputs": [],
   "source": [
    "!cat data/animal/manifest.json"
   ]
  },
  {
   "cell_type": "markdown",
   "metadata": {},
   "source": [
    "### データのアップロード\n",
    "\n",
    "ラベリングジョブの入力データをアップロードします．`JOB_NAME` の `XXX` を，`001` のように，ハンズオン実施時に指定された番号に置き換えてから，コマンドを実行してください．"
   ]
  },
  {
   "cell_type": "code",
   "execution_count": null,
   "metadata": {},
   "outputs": [],
   "source": [
    "PATH = 'data/animal'\n",
    "JOB_NAME = 'test-job-XXX'\n",
    "\n",
    "sagemaker_session = sagemaker.Session()\n",
    "sagemaker_session.upload_data(\n",
    "        path=PATH,\n",
    "        key_prefix=os.path.join(JOB_NAME, PATH))"
   ]
  },
  {
   "cell_type": "markdown",
   "metadata": {},
   "source": [
    "### ラベリングジョブを行うチームの作成\n",
    "\n",
    "[SageMaker コンソールのラベリング労働力ページ](https://console.aws.amazon.com/sagemaker/groundtruth?region=us-east-1#/labeling-workforces) に移動して，上のメニューから `Private` を選択し，`Create private team` を押してください．続いて以下のように入力したら，Create private team を押します．\n",
    "\n",
    "- Team name: `private-team-XXX` と入力してください．XXX は先ほどと同様に，ハンズオン開始時に指定された番号になります\n",
    "- Add workers: `Create a new Amazon Cognito user group` を選択してください\n",
    "- Email addresses: 自身のメールアドレスを入力してください\n",
    "- Organization name: `private-org-XXX`\n",
    "\n",
    "元の画面に戻ったら，Private teams 内に，作成したチームが表示されています（表示されていない場合は，画面をリロードしてください）．しばらくすると，入力したメールアドレスに，Amazon SageMaker から招待リンクの含まれたメールが届きます．そうしたら，リンクをクリックして，メールに書かれたユーザー名とパスワードを使ってログインし，パスワードを変更します．これで準備ができました．"
   ]
  },
  {
   "cell_type": "markdown",
   "metadata": {},
   "source": [
    "## ラベリングジョブの作成\n",
    "\n",
    "まず，以下のコマンドを実行して，必要な値を生成します．"
   ]
  },
  {
   "cell_type": "code",
   "execution_count": null,
   "metadata": {},
   "outputs": [],
   "source": [
    "print('Job name: {}'.format(JOB_NAME))\n",
    "print('Input data location: s3://{}/{}/{}/manifest.json'.format(\n",
    "    sagemaker_session.default_bucket(), JOB_NAME, PATH))\n",
    "print('Output data location: s3://{}'.format(sagemaker_session.default_bucket()))"
   ]
  },
  {
   "cell_type": "markdown",
   "metadata": {},
   "source": [
    "[SageMaker コンソールのラベリングジョブページ](https://console.aws.amazon.com/sagemaker/groundtruth?region=us-east-1#/labeling-jobs) に移動して，`Create labelling job ` ボタンをクリックします．その後以下のように入力を行ってから，「Next」ボタンを押してください．\n",
    "\n",
    "- Job name: 上の値をそのままコピー\n",
    "- Input dataset location: 上の値をそのままコピー\n",
    "- Output dataset location: 上の値をそのままコピー\n",
    "- IAM role: 既存の SageMakerFullAccess ポリシーを付与したロールを使用\n",
    "\n",
    "![labelling_image](./img/img002.jpg)\n",
    "\n",
    "その上で，Task type として Image classification を選択したら Next を押してください．"
   ]
  },
  {
   "cell_type": "markdown",
   "metadata": {},
   "source": [
    "次のページでは，順番に以下のように選択してください．\n",
    "\n",
    "- Worker types: Private を選択\n",
    "- Private teams: 先ほど作成したチームを選択\n",
    "\n",
    "![labelling_image](./img/img003.jpg)\n",
    "\n",
    "その上で，Image classification labelling tool について，以下のように追加情報の入力を行います．\n",
    "\n",
    "- Enter a brief description of the task: タスクに関する説明文を各フィールドです．ここでは「画像分類のテスト」と入力してください\n",
    "- Select an option: 2 つのフィールドに対して「dog」「cat」とそれぞれ入力してください．このフィールドには日本語は使用できません\n",
    "\n",
    "![labelling_image](./img/img004.jpg)\n",
    "\n",
    "これらが終わったら Submit ボタンを押してください．"
   ]
  },
  {
   "cell_type": "markdown",
   "metadata": {},
   "source": [
    "## ラベリングジョブの実施\n",
    "\n",
    "あとは，先ほどの Worker 側作業ページを開いて待っていると，分類タスクが積まれます．実際にラベリングタスクを試してみてください．\n",
    "\n",
    "![labelling_image](./img/img004.jpg)"
   ]
  },
  {
   "cell_type": "markdown",
   "metadata": {},
   "source": [
    "## 結果の確認\n",
    "\n",
    "ジョブが終了したら，マネジメントコンソール内のラベリングジョブの一覧から，実行したジョブを選択して，Output dataset location をクリックしてください．アウトプットフォルダは，以下のような階層構造になっています．\n",
    "\n",
    "- s3://PATH/TO/JOB/OUTPUT/activelearning: 自動ラベリング機能を使った時に，その結果を格納するディレクトリです\n",
    "- s3://PATH/TO/JOB/OUTPUT/annotations: 人手によるラベリングジョブの結果が格納されるディレクトリです．個々人のラベリング結果を入れる worker-responce サブディレクトリ，各バッチごとのアノテーション結果をまとめた consolidated-annotation サブディレクトリ，バッチ内の判定結果をマニフェストファイルの形に落とした intermediate サブディレクトリの 3 つが含まれます\n",
    "- s3://PATH/TO/JOB/OUTPUT/inference: 自動ラベリング機能の実施時の，バッチ推論ジョブの入出力データが格納されるディレクトリです\n",
    "- s3://PATH/TO/JOB/OUTPUT/manifests: 最終結果のマニフェストファイルが格納されるディレクトリです\n",
    "- s3://PATH/TO/JOB/OUTPUT/training: 自動ラベリング機能の実施時の，学習ジョブに関するデータが格納されるディレクトリです\n",
    "\n",
    "上記以外の詳細な説明は[こちら](https://docs.aws.amazon.com/sagemaker/latest/dg/sms-data-output.html)をご覧ください．\n",
    "\n",
    "では，最終的なラベリング結果を取得して中身を確認しましょう．下記コマンドを実行して，中身を確認します．"
   ]
  },
  {
   "cell_type": "code",
   "execution_count": null,
   "metadata": {},
   "outputs": [],
   "source": [
    "import sys\n",
    "\n",
    "s3.download_file(BUCKET_NAME, '{}/manifests/output/output.manifest'.format(JOB_NAME), 'output.manifest')\n",
    "\n",
    "with open('output.manifest', 'r') as f:\n",
    "    for line in f.readlines():\n",
    "        print(line)"
   ]
  }
 ],
 "metadata": {
  "kernelspec": {
   "display_name": "conda_python3",
   "language": "python",
   "name": "conda_python3"
  },
  "language_info": {
   "codemirror_mode": {
    "name": "ipython",
    "version": 3
   },
   "file_extension": ".py",
   "mimetype": "text/x-python",
   "name": "python",
   "nbconvert_exporter": "python",
   "pygments_lexer": "ipython3",
   "version": "3.6.5"
  }
 },
 "nbformat": 4,
 "nbformat_minor": 2
}
