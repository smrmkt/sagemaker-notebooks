{
 "cells": [
  {
   "cell_type": "markdown",
   "metadata": {},
   "source": [
    "# Ground Truth でカスタムのテキストラベリングタスクを実施する\n",
    "\n",
    "このノートブックでは，Ground Truth を使った，テキストを用いた簡単なカスタムタスクを実際に試してみます．その際に必要な Lambda や jekyll テンプレートについても確認します．"
   ]
  },
  {
   "cell_type": "markdown",
   "metadata": {},
   "source": [
    "## ポリシーの準備\n",
    "\n",
    "IAM 管理ページ に移動して，ラベリングジョブを行うユーザーに対して，以下のポリシーを付与してください．この作業は，あらかじめハンズオンの前に管理者側で実施しておくことを推奨します．\n",
    "\n",
    "- AmazonCognitoPowerUser ポリシー\n",
    "- AWSLambdaFullAccess ポリシー"
   ]
  },
  {
   "cell_type": "markdown",
   "metadata": {},
   "source": [
    "## ラベリング対象データの準備\n",
    "\n",
    "ラベル付けを行う対象データを確認してから，S3 にアップロードしましょう．テキストデータの場合，manifest.json という名前のファイルに，以下のような形式でラベリング対象のテキストを記述します．この各行のデータが，あとで説明する pre-process 用の Lambda の入力として引き渡されます．"
   ]
  },
  {
   "cell_type": "code",
   "execution_count": 8,
   "metadata": {},
   "outputs": [
    {
     "name": "stdout",
     "output_type": "stream",
     "text": [
      "{\"source\": \"セリフ1\"}\r\n",
      "{\"source\": \"セリフ2\"}\r\n",
      "{\"source\": \"セリフ3\"}\r\n",
      "{\"source\": \"あああ\"}\r\n",
      "{\"source\": \"いいい\"}\r\n",
      "{\"source\": \"せりふ1\"}\r\n"
     ]
    }
   ],
   "source": [
    "!cat manifest.json"
   ]
  },
  {
   "cell_type": "markdown",
   "metadata": {},
   "source": [
    "続いてデータを S3 にアップロードします．SageMaker のファイルアップロード用のユーティリティ関数を使います．アップロード前に，**JOB_NAME の XXX を適当な 3 桁の数字に変更**してください．"
   ]
  },
  {
   "cell_type": "code",
   "execution_count": 9,
   "metadata": {},
   "outputs": [
    {
     "name": "stderr",
     "output_type": "stream",
     "text": [
      "INFO:sagemaker:Created S3 bucket: sagemaker-us-east-1-666254511816\n"
     ]
    },
    {
     "data": {
      "text/plain": [
       "'s3://sagemaker-us-east-1-666254511816/test-text-job-001/data/text/manifest.json'"
      ]
     },
     "execution_count": 9,
     "metadata": {},
     "output_type": "execute_result"
    }
   ],
   "source": [
    "import sagemaker\n",
    "import os\n",
    "\n",
    "BUCKET_NAME = sagemaker_session.default_bucket()\n",
    "PATH = 'data/sentiment'\n",
    "JOB_NAME = 'test-text-job-XXX'\n",
    "FILE_NAME = 'manifest.json'\n",
    "\n",
    "sagemaker_session = sagemaker.Session()\n",
    "sagemaker_session.upload_data(\n",
    "        path=FILE_NAME,\n",
    "        key_prefix=os.path.join(JOB_NAME, PATH))"
   ]
  },
  {
   "cell_type": "markdown",
   "metadata": {},
   "source": [
    "## Lambda 関数の作成\n",
    "\n",
    "続いて Lambda 関数を 2 つ作成します．これは，ラベリングジョブの前処理と後処理を行うためのものです．それぞれの役割は以下の通りです．またそれぞれの Lambda 関数の入出力データの形式は，[こちら](https://docs.aws.amazon.com/sagemaker/latest/dg/sms-custom-templates-step3.html)を参照ください．\n",
    "\n",
    "- 前処理: manifest.json から必要な内容を読み込んで，jekyll テンプレートに引き渡す役割\n",
    "- 後処理: ラベリングされた各ワーカーの結果を集約する役割"
   ]
  },
  {
   "cell_type": "markdown",
   "metadata": {},
   "source": [
    "### 前処理\n",
    "\n",
    "前処理に使うスクリプトの中身は，以下の通りです．"
   ]
  },
  {
   "cell_type": "code",
   "execution_count": 10,
   "metadata": {},
   "outputs": [
    {
     "name": "stdout",
     "output_type": "stream",
     "text": [
      "import json\r\n",
      "\r\n",
      "def lambda_handler(event, context):\r\n",
      "    return {\r\n",
      "        \"taskInput\": {\r\n",
      "            \"topic\": \"日常会話\",\r\n",
      "            \"conversation\" : event[\"dataObject\"][\"source\"]\r\n",
      "        }\r\n",
      "    }\r\n"
     ]
    }
   ],
   "source": [
    "!cat src/ground-truth-preprocess.py"
   ]
  },
  {
   "cell_type": "markdown",
   "metadata": {},
   "source": [
    "また，上記　Lambda に引き渡されるインプットとアウトプットの形式は，それぞれ以下の通りになります\n",
    "\n",
    "#### インプット\n",
    "\n",
    "`labelingJobArn` は Ground Truth 側が自動で生成する，ラベリングジョブの ARN になります．また `manifest.json` 内に記述されたラベリング対象データが，1 行ずつパースされて `dataObject` の中に埋め込まれ，Lambda 側に引き渡される形になります．\n",
    "\n",
    "```\n",
    "{\n",
    "    \"version\": \"2018-10-16\",\n",
    "    \"labelingJobArn\": <labelingJobArn>\n",
    "    \"dataObject\" : {\n",
    "        \"source\": \"セリフ1\"\n",
    "    }\n",
    "}\n",
    "```\n",
    "\n",
    "#### アウトプット\n",
    "\n",
    "Lambda の出力結果は，下で示すテンプレートに引き渡されます．出力形式は JSON にする必要があります．上の Lambda では，マニフェストファイルから引き渡された会話情報を `conversation` に，また会話トピック名を新たに `topic` に入れています．これをテンプレート側で，`task.input.conversation` および `task.input.topic` で取り出すことができます．\n",
    "\n",
    "```\n",
    "{\n",
    "    \"taskInput\": {\n",
    "        \"topic\": \"日常会話\",\n",
    "        \"conversation\" : \"セリフ1\"\n",
    "    }\n",
    "}\n",
    "```"
   ]
  },
  {
   "cell_type": "markdown",
   "metadata": {},
   "source": [
    "### 後処理\n",
    "\n",
    "前処理に使うスクリプトの中身は，以下の通りです．"
   ]
  },
  {
   "cell_type": "code",
   "execution_count": 11,
   "metadata": {},
   "outputs": [
    {
     "name": "stdout",
     "output_type": "stream",
     "text": [
      "import json\r\n",
      "import boto3\r\n",
      "from urlparse import urlparse\r\n",
      "\r\n",
      "def lambda_handler(event, context):\r\n",
      "    consolidated_labels = []\r\n",
      "\r\n",
      "    parsed_url = urlparse(event['payload']['s3Uri']);\r\n",
      "    s3 = boto3.client('s3')\r\n",
      "    textFile = s3.get_object(Bucket = parsed_url.netloc, Key = parsed_url.path[1:])\r\n",
      "    filecont = textFile['Body'].read()\r\n",
      "    annotations = json.loads(filecont);\r\n",
      "    \r\n",
      "    for dataset in annotations:\r\n",
      "        for annotation in dataset['annotations']:\r\n",
      "            new_annotation = json.loads(annotation['annotationData']['content'])\r\n",
      "            label = {\r\n",
      "                'datasetObjectId': dataset['datasetObjectId'],\r\n",
      "                'consolidatedAnnotation' : {\r\n",
      "                'content': {\r\n",
      "                    event['labelAttributeName']: {\r\n",
      "                        'workerId': annotation['workerId'],\r\n",
      "                        'annnotationScore': new_annotation,\r\n",
      "                        'source': dataset['dataObject']\r\n",
      "                        }\r\n",
      "                    }\r\n",
      "                }\r\n",
      "            }\r\n",
      "            consolidated_labels.append(label)\r\n",
      "    \r\n",
      "    return consolidated_labels"
     ]
    }
   ],
   "source": [
    "!cat src/ground-truth-postprocess.py"
   ]
  },
  {
   "cell_type": "markdown",
   "metadata": {},
   "source": [
    "同様に，引き渡されるインプットとアウトプットは，それぞれ以下の形になります．\n",
    "\n",
    "#### インプット\n",
    "\n",
    "`labelingJobArn` は先ほどと同様で，`roleArn` はラベリングジョブに付与した IAM ロールです．アノテーションの結果は，`payload` 内の `s3Uri` に格納された S3 オブジェクトに書かれているので，Lambda 関数内で boto3 を使ってオブジェクトを読み込んで，結果の後処理を行う形になります．\n",
    "\n",
    "```\n",
    "{\n",
    "    \"version\": \"2018-10-16\",\n",
    "    \"labelingJobArn\": \"arn:aws:sagemaker:XXXX\",\n",
    "    \"outputConfig\":\"s3://BUCKET_NAME/JOB_NAME/annotations\",\n",
    "    \"labelAttributeName\": \"test-text-job-XXX\",\n",
    "    \"roleArn\" : \"arn:aws:iam::XXXXXXXXXX\",\n",
    "    \"payload\": {\n",
    "        \"s3Uri\": \"s3://BUCKET_NAME/JOB_NAME/annotations/annotations/consolidated-annotation/consolidation-request/iteration-1/2019-02-15_01:26:56.json\"\n",
    "    }\n",
    " }\n",
    "```\n",
    "\n",
    "#### アウトプット\n",
    "\n",
    "出力としては，Lambda で返された中身がそのまま配列として JSON 型で書き出されます．\n",
    "\n",
    "```\n",
    "[\n",
    "  {\n",
    "    \"datasetObjectId\": \"3\",\n",
    "    \"consolidatedAnnotation\": {\n",
    "      \"content\": {\n",
    "        \"test-text-job-XXX\": {\n",
    "          \"workerId\": \"private.us-east-1.WQBQ5GUUOR4JHRSNUKSF43RAUM\",\n",
    "          \"annnotations\": {\n",
    "            \"sentiment\": {\n",
    "              \"label\": \"5 - Positive\"\n",
    "            }\n",
    "          },\n",
    "          \"source\": {\n",
    "            \"content\": \"最悪だ\"\n",
    "          }\n",
    "        }\n",
    "      }\n",
    "    }\n",
    "  },\n",
    "  {\n",
    "    \"datasetObjectId\": \"5\",\n",
    "    ...\n",
    "  }\n",
    "]\n",
    "```"
   ]
  },
  {
   "cell_type": "markdown",
   "metadata": {},
   "source": [
    "[Lambda のマネジメントコンソール](https://console.aws.amazon.com/lambda/home?region=us-east-1)を開いて，それぞれ以下の形で作成してください．Name, Runtime, Role を設定したら `Create function` を選択して，次のページで Function code の中身をコピーする形になります．その上で，右上の `Save` ボタンを押してください．\n",
    "\n",
    "#### 前処理\n",
    "\n",
    "- Name: sagemaker-custom-text-preprocess\n",
    "- Runtime: Python 3.7\n",
    "- Role: arn:aws:iam::aws:policy/AWSLambdaExecute ポリシーを付与した Role\n",
    "- Function code: ground-truth-preprocess.py の内容をコピーして貼り付け\n",
    "\n",
    "#### 後処理\n",
    "\n",
    "- Name: sagemaker-custom-text-postprocess\n",
    "- Runtime: Python 2.7\n",
    "- Role: `Create a new role from one or more templetes` を選択して，`Amazon S3 object read-only permissions` を選ぶ．ロール名は適当なものをつける\n",
    "- Function code: ground-truth-preprocess.py の内容をコピーして貼り付け"
   ]
  },
  {
   "cell_type": "markdown",
   "metadata": {},
   "source": [
    "### テンプレートの確認\n",
    "\n",
    "以下のコマンドを実行して，カスタムタスク用のテンプレートの中身を確認します．ここでは，Ground Truth で定義されている要素を活用して，Jekyll 向けのテンプレートを構成しています．定義されている HTML 要素の一覧については，[こちら](https://docs.aws.amazon.com/sagemaker/latest/dg/sms-ui-template-reference.html)を参照してください．機械学習に関するものとしては，例えば以下のような特定タスク向けのタグがあります．これらのタグは，crowd-form の子要素となっているため，入力結果を書き出すことができます．書き出した結果は S3 に保存されるため，S3 キー名を後処理の Lambda で受け取って，ファイル自体を読み込んで複数ワーカーの結果をマージする形になります．\n",
    "\n",
    "- [crowd-classifier](https://docs.aws.amazon.com/sagemaker/latest/dg/sms-ui-template-crowd-classifier.html)\n",
    "- [crowd-image-classifier](https://docs.aws.amazon.com/sagemaker/latest/dg/sms-ui-template-crowd-image-classifier.html)\n",
    "- [crowd-bounding-box](https://docs.aws.amazon.com/sagemaker/latest/dg/sms-ui-template-crowd-bounding-box.html)\n",
    "- [crowd-semantic-segmentation](https://docs.aws.amazon.com/sagemaker/latest/dg/sms-ui-template-crowd-semantic-segmentation.html)\n",
    "\n",
    "またそれ以外にも，下記のようなタグも入力部品としてお使いいただくことが可能です．こちらの入力結果も，同様に後処理の Lambda に引き渡されます．\n",
    "\n",
    "- [crowd-input](https://docs.aws.amazon.com/sagemaker/latest/dg/sms-ui-template-crowd-input.html)\n",
    "- [crowd-slider](https://docs.aws.amazon.com/sagemaker/latest/dg/sms-ui-template-crowd-slider.html)\n",
    "- [crowd-button](https://docs.aws.amazon.com/sagemaker/latest/dg/sms-ui-template-crowd-button.html)\n",
    "\n",
    "\n",
    "このテンプレートの中で書かれている，task.input.conversation といったパラメタは，前処理用の Lambda から引き渡されるものになります．また後処理の Lambda の処理とも合わせて，このあたりの詳細については，[マニュアル](https://docs.aws.amazon.com/sagemaker/latest/dg/sms-custom-templates-step2-demo1.html)を参照してください．\n"
   ]
  },
  {
   "cell_type": "code",
   "execution_count": 12,
   "metadata": {},
   "outputs": [
    {
     "name": "stdout",
     "output_type": "stream",
     "text": [
      "<script src=\"https://assets.crowd.aws/crowd-html-elements.js\"></script>\r\n",
      "\r\n",
      "<crowd-form>\r\n",
      "    <crowd-classifier\r\n",
      "      name=\"relevance\"\r\n",
      "      categories=\"['5 - ポジティブ', '4', '3', '2', '1 - ネガティブ']\"\r\n",
      "      header=\"次のトピックについて，提示された文章のポジネガを判定してください: {{ task.input.topic }}\"\r\n",
      "    >\r\n",
      "      <classification-target>\r\n",
      "        {{ task.input.conversation }}\r\n",
      "      </classification-target>\r\n",
      "      \r\n",
      "      <full-instructions header=\"Conversation Relevance Instructions\">\r\n",
      "        <h2>提示された文章のポジネガを判定してください</h2>\r\n",
      "      </full-instructions>\r\n",
      "\r\n",
      "      <short-instructions>\r\n",
      "        提示された文章のポジネガを判定してください\r\n",
      "      </short-instructions>\r\n",
      "    </crowd-classifier>\r\n",
      "</crowd-form>"
     ]
    }
   ],
   "source": [
    "!cat src/custom-task.templete"
   ]
  },
  {
   "cell_type": "markdown",
   "metadata": {},
   "source": [
    "## ラベリングジョブの作成\n",
    "\n",
    "まず，以下のコマンドを実行して，必要な値を生成します．"
   ]
  },
  {
   "cell_type": "code",
   "execution_count": 15,
   "metadata": {},
   "outputs": [
    {
     "name": "stdout",
     "output_type": "stream",
     "text": [
      "Job name: custom-job-XXX\n",
      "Input data location: s3://sagemaker-us-east-1-666254511816/custom-job-XXX/data/sentiment/manifest.json\n",
      "Output data location: s3://sagemaker-us-east-1-666254511816\n"
     ]
    }
   ],
   "source": [
    "print('Job name: {}'.format(JOB_NAME))\n",
    "print('Input data location: s3://{}/{}/{}/manifest.json'.format(\n",
    "    sagemaker_session.default_bucket(), JOB_NAME, PATH))\n",
    "print('Output data location: s3://{}'.format(sagemaker_session.default_bucket()))"
   ]
  },
  {
   "cell_type": "markdown",
   "metadata": {},
   "source": [
    "[SageMaker コンソールのラベリングジョブページ](https://console.aws.amazon.com/sagemaker/groundtruth?region=us-east-1#/labeling-jobs) に移動して，`Create labelling job ` ボタンをクリックします．その後以下のように入力を行ってから，「Next」ボタンを押してください．\n",
    "\n",
    "- Job name: 上の値をそのままコピー\n",
    "- Input dataset location: 上の値をそのままコピー\n",
    "- Output dataset location: 上の値をそのままコピー\n",
    "- IAM role: 既存の SageMakerFullAccess ポリシーを付与したロールを使用\n",
    "\n",
    "その上で，Task type として Custom を選択したら Next を押してください．\n"
   ]
  },
  {
   "cell_type": "markdown",
   "metadata": {},
   "source": [
    "次のページでは，順番に以下のように選択してください．\n",
    "\n",
    "- Worker types: Private を選択\n",
    "- Private teams: 先ほど作成したチームを選択\n",
    "\n",
    "その上で，Custom labeling task setup について，以下のように追加情報の入力を行います．\n",
    "\n",
    "- Templete: Custom\n",
    "- Templete code: src/custom-task.templete の中身をそのままコピペする\n",
    "\n",
    "また一番下の Lambda 関数を指定する箇所は，以下のようにします．\n",
    "\n",
    "- Pre-labeling task Lambda function: sagemaker-custom-text-preprocess\n",
    "- Post-labeling task Lambda function: sagemaker-custom-text-postprocess\n",
    "\n",
    "これらが終わったら Submit ボタンを押してください．\n",
    "\n",
    "![labelling_image](./img/img001.jpg)"
   ]
  },
  {
   "cell_type": "markdown",
   "metadata": {},
   "source": [
    "## ラベリングジョブの実施\n",
    "\n",
    "あとは，先ほどの Worker 側作業ページを開いて待っていると，センチメント評価タスクが積まれます．実際にラベリングタスクを試してみてください．\n",
    "\n",
    "![labelling_image](./img/img002.jpg)\n"
   ]
  },
  {
   "cell_type": "markdown",
   "metadata": {},
   "source": [
    "## 結果の確認\n",
    "\n",
    "ジョブが終了したら，マネジメントコンソール内のラベリングジョブの一覧から，実行したジョブを選択して，Output dataset location をクリックしてください．アウトプットフォルダは，以下のような階層構造になっています．\n",
    "\n",
    "- s3://PATH/TO/JOB/OUTPUT/activelearning: 自動ラベリング機能を使った時に，その結果を格納するディレクトリです\n",
    "- s3://PATH/TO/JOB/OUTPUT/annotations: 人手によるラベリングジョブの結果が格納されるディレクトリです．個々人のラベリング結果を入れる worker-responce サブディレクトリ，各バッチごとのアノテーション結果をまとめた consolidated-annotation サブディレクトリ，バッチ内の判定結果をマニフェストファイルの形に落とした intermediate サブディレクトリの 3 つが含まれます\n",
    "- s3://PATH/TO/JOB/OUTPUT/inference: 自動ラベリング機能の実施時の，バッチ推論ジョブの入出力データが格納されるディレクトリです\n",
    "- s3://PATH/TO/JOB/OUTPUT/manifests: 最終結果のマニフェストファイルが格納されるディレクトリです\n",
    "- s3://PATH/TO/JOB/OUTPUT/training: 自動ラベリング機能の実施時の，学習ジョブに関するデータが格納されるディレクトリです\n",
    "\n",
    "上記以外の詳細な説明は[こちら](https://docs.aws.amazon.com/sagemaker/latest/dg/sms-data-output.html)をご覧ください．\n",
    "\n",
    "では，最終的なラベリング結果を取得して中身を確認しましょう．下記コマンドを実行して，中身を確認します．"
   ]
  },
  {
   "cell_type": "code",
   "execution_count": null,
   "metadata": {},
   "outputs": [],
   "source": [
    "import sys\n",
    "\n",
    "s3.download_file(BUCKET_NAME, '{}/manifests/output/output.manifest'.format(JOB_NAME), 'output.manifest')\n",
    "\n",
    "with open('output.manifest', 'r') as f:\n",
    "    for line in f.readlines():\n",
    "        print(line)"
   ]
  }
 ],
 "metadata": {
  "kernelspec": {
   "display_name": "conda_python3",
   "language": "python",
   "name": "conda_python3"
  },
  "language_info": {
   "codemirror_mode": {
    "name": "ipython",
    "version": 3
   },
   "file_extension": ".py",
   "mimetype": "text/x-python",
   "name": "python",
   "nbconvert_exporter": "python",
   "pygments_lexer": "ipython3",
   "version": "3.6.5"
  }
 },
 "nbformat": 4,
 "nbformat_minor": 2
}
