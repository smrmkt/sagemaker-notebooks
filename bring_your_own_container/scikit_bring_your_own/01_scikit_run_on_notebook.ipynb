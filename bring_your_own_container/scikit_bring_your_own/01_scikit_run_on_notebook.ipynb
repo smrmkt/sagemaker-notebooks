{
 "cells": [
  {
   "cell_type": "markdown",
   "metadata": {},
   "source": [
    "# ノートブックインスタンスで scikit-learn の学習・推論を行う\n",
    "\n",
    "#### ノートブックに含まれる内容\n",
    "\n",
    "- scikit-learn を使って，ローカルで決定木モデルの学習・推論を行うときの基本的なやりかた\n",
    "\n",
    "#### ノートブックで使われている手法の詳細\n",
    "\n",
    "- アルゴリズム: DecisionTreeClassifier\n",
    "- データ: iris"
   ]
  },
  {
   "cell_type": "markdown",
   "metadata": {},
   "source": [
    "## セットアップ"
   ]
  },
  {
   "cell_type": "code",
   "execution_count": null,
   "metadata": {
    "collapsed": true
   },
   "outputs": [],
   "source": [
    "import os\n",
    "import json\n",
    "import itertools\n",
    "import pandas as pd\n",
    "from sklearn import tree"
   ]
  },
  {
   "cell_type": "code",
   "execution_count": null,
   "metadata": {
    "collapsed": true
   },
   "outputs": [],
   "source": [
    "# パスをセットして確認\n",
    "prefix = os.getcwd() \n",
    "training_path = os.path.join(prefix, 'data')\n",
    "param_path = os.path.join(prefix, 'config/hyperparameters.json')\n",
    "\n",
    "print(\"training path:  \" + training_path)\n",
    "print(\"parameter path: \" + param_path)"
   ]
  },
  {
   "cell_type": "markdown",
   "metadata": {},
   "source": [
    "## データのロード\n",
    "\n",
    "ローカルにあるデータとハイパーパラメタの設定ファイルを読み込みます"
   ]
  },
  {
   "cell_type": "code",
   "execution_count": null,
   "metadata": {
    "collapsed": true
   },
   "outputs": [],
   "source": [
    "# 学習用データをロード\n",
    "input_files = [os.path.join(training_path, file) for file in os.listdir(training_path)]\n",
    "if len(input_files) == 0:\n",
    "    raise ValueError(('There are no files in {}.').format(training_path))\n",
    "raw_data = [pd.read_csv(file, header=None) for file in input_files]\n",
    "train_data = pd.concat(raw_data)\n",
    "\n",
    "# データの最初のカラムはラベルなので切り分ける\n",
    "train_y = train_data.iloc[:,[0]]\n",
    "train_X = train_data.iloc[:,[1,2,3,4]]\n",
    "\n",
    "print(train_y.shape)\n",
    "print(train_X.shape)"
   ]
  },
  {
   "cell_type": "code",
   "execution_count": null,
   "metadata": {
    "collapsed": true
   },
   "outputs": [],
   "source": [
    "# 学習ジョブ用のハイパーパラメタを読み出す\n",
    "with open(param_path, 'r') as tc:\n",
    "    trainingParams = json.load(tc)\n",
    "\n",
    "# 読みだしたハイパーパラメタをセット\n",
    "# ハイパーパラメタは単一の値のみをサポート\n",
    "# 常に String で読みだされるため，適切な型変換が必要\n",
    "max_leaf_nodes = trainingParams.get('max_leaf_nodes', None)\n",
    "if max_leaf_nodes is not None:\n",
    "    max_leaf_nodes = int(max_leaf_nodes)\n",
    "\n",
    "print(max_leaf_nodes)"
   ]
  },
  {
   "cell_type": "markdown",
   "metadata": {},
   "source": [
    "## モデルの学習を実行\n",
    "\n",
    "読み込んだデータとハイパーパラメタを用いて，学習用データから予測モデルを構築します"
   ]
  },
  {
   "cell_type": "code",
   "execution_count": null,
   "metadata": {
    "collapsed": true
   },
   "outputs": [],
   "source": [
    "# scikit-learn で Decision Tree を実行\n",
    "classifier = tree.DecisionTreeClassifier(max_leaf_nodes=max_leaf_nodes)\n",
    "classifier = classifier.fit(train_X, train_y)"
   ]
  },
  {
   "cell_type": "markdown",
   "metadata": {},
   "source": [
    "## モデルの推論を実行\n",
    "\n",
    "構築したモデルに対してデータを食わせて，実際にあやめの種類の推論を行います"
   ]
  },
  {
   "cell_type": "code",
   "execution_count": null,
   "metadata": {
    "collapsed": true
   },
   "outputs": [],
   "source": [
    "# 推論用のデータを準備\n",
    "test_X = pd.DataFrame([[5.0, 3.2, 1.2, 4.3], [4.5, 2.3, 1.3, 0.3], [5.7, 2.8, 4.1, 1.3]])\n",
    "\n",
    "print(test_X)"
   ]
  },
  {
   "cell_type": "code",
   "execution_count": null,
   "metadata": {
    "collapsed": true
   },
   "outputs": [],
   "source": [
    "# 推論を実行して，結果を表示\n",
    "results = classifier.predict(test_X)\n",
    "for i, result in enumerate(results):\n",
    "    print('predict result of data[{}] is \"{}\"'.format(i, result))"
   ]
  }
 ],
 "metadata": {
  "kernelspec": {
   "display_name": "conda_python3",
   "language": "python",
   "name": "conda_python3"
  },
  "language_info": {
   "codemirror_mode": {
    "name": "ipython",
    "version": 3
   },
   "file_extension": ".py",
   "mimetype": "text/x-python",
   "name": "python",
   "nbconvert_exporter": "python",
   "pygments_lexer": "ipython3",
   "version": "3.6.2"
  }
 },
 "nbformat": 4,
 "nbformat_minor": 2
}
