{
 "cells": [
  {
   "cell_type": "markdown",
   "metadata": {},
   "source": [
    "# Cloudwatch Metrics に学習過程のスコアを書き出す\n",
    "\n",
    "## 概要\n",
    "\n",
    "このノートブックでは，Amazon SageMaker 上で学習する際のスコアを，Cloudwatch Metrics に書き出して可視化するやり方について確認します．\n",
    "\n",
    "\n",
    "## データセットのS3へのアップロード\n",
    "\n",
    "- keras.datasetsを利用してmnistのデータをダウンロードしてnpz形式で保存します。\n",
    "- 保存したnpz形式のファイルを、SageMaker Python SDKを利用してS3にアップロードします。"
   ]
  },
  {
   "cell_type": "code",
   "execution_count": null,
   "metadata": {},
   "outputs": [],
   "source": [
    "import os\n",
    "import keras\n",
    "import numpy as np\n",
    "from keras.datasets import mnist\n",
    "(x_train, y_train), (x_test, y_test) = mnist.load_data()\n",
    "\n",
    "os.makedirs(\"./data\", exist_ok = True)\n",
    "\n",
    "np.savez('./data/train', image=x_train, label=y_train)\n",
    "np.savez('./data/test', image=x_test, label=y_test)\n",
    "\n",
    "import sagemaker\n",
    "sagemaker_session = sagemaker.Session()\n",
    "bucket_name = sagemaker_session.default_bucket()\n",
    "input_data = sagemaker_session.upload_data(path='./data', bucket=bucket_name, key_prefix='dataset/mnist')\n",
    "print('Training data is uploaded to: {}'.format(input_data))"
   ]
  },
  {
   "cell_type": "markdown",
   "metadata": {},
   "source": [
    "## メトリクスの記述\n",
    "\n",
    "Estimator オブジェクトを作成する際に，metric_definitions を JSON 形式で指定することができます．ここで正規表現の形でメトリクスを指定することで，ジョブを実行した際の標準出力からマッチする値を取り出して，自動的に Cloudwatch Metrics に書き出してくれます．\n",
    "\n",
    "ここでは Keras のジョブを実行するため，以下のような形式でログが出力されます．エポックごとの，訓練データと評価データ両方に対する損失関数の値を，メトリクスとして抜き出すことを考えてみましょう．\n",
    "\n",
    "```\n",
    "59600/60000 [============================>.] - ETA: 0s - loss: 0.2289 - acc: 0.9298\n",
    "59800/60000 [============================>.] - ETA: 0s - loss: 0.2286 - acc: 0.9299\n",
    "60000/60000 [==============================] - 28s 460us/step - loss: 0.2282 - acc: 0.9300 - val_loss: 0.1047 - val_acc: 0.9671\n",
    "Epoch 2/100\n",
    "\n",
    "  100/60000 [..............................] - ETA: 28s - loss: 0.1315 - acc: 0.9500\n",
    "  300/60000 [..............................] - ETA: 25s - loss: 0.1260 - acc: 0.9600\n",
    "  500/60000 [..............................] - ETA: 25s - loss: 0.1209 - acc: 0.9620\n",
    "```\n",
    "\n",
    "ここでは，以下のようにメトリクスを定義することで，上記形式のログから，訓練・評価データそれぞれの損失関数の値を抜き出すことができます．\n",
    "\n",
    "```\n",
    "          metric_definitions=[\n",
    "              { \"Name\": \"train:loss\", \"Regex\": \".*step\\\\s-\\\\sloss:\\\\s(\\\\S+).*\" },\n",
    "              { \"Name\": \"val:loss\", \"Regex\": \".*\\\\sval_loss:\\\\s(\\\\S+).*\" }\n",
    "          ],\n",
    "```\n",
    "\n",
    "\n",
    "## SageMakerでの学習\n",
    "\n",
    "先ほど説明したメトリクス定義を含めて Tensorflow オブジェクトを作成し，実行することで，メトリクスも出力されます．確認のために，マネジメントコンソールの左メニュー内「トレーニングジョブ」から，該当するジョブを選択します．詳細画面の下側にある「モニタリング」フィールド内の「アルゴリズムメトリクスの表示」リンクから，定義したメトリクスのグラフに飛ぶことができます．"
   ]
  },
  {
   "cell_type": "code",
   "execution_count": null,
   "metadata": {},
   "outputs": [],
   "source": [
    "from sagemaker.tensorflow import TensorFlow\n",
    "from sagemaker import get_execution_role\n",
    "\n",
    "role = get_execution_role()\n",
    "mnist_estimator = TensorFlow(entry_point = \"./src/keras_mlp_mnist.py\",\n",
    "          role=role,\n",
    "          train_instance_count=1,\n",
    "          train_instance_type=\"ml.m4.xlarge\",\n",
    "          framework_version=\"1.11.0\",\n",
    "          py_version='py3',\n",
    "          script_mode=True,\n",
    "          metric_definitions=[\n",
    "              { \"Name\": \"train:loss\", \"Regex\": \".*step\\\\s-\\\\sloss:\\\\s(\\\\S+).*\" },\n",
    "              { \"Name\": \"val:loss\", \"Regex\": \".*\\\\sval_loss:\\\\s(\\\\S+).*\" }\n",
    "          ],\n",
    "          hyperparameters={'batch_size': 64,\n",
    "                         'n_class': 10,\n",
    "                         'epochs': 15})\n",
    "\n",
    "mnist_estimator.fit(input_data)"
   ]
  }
 ],
 "metadata": {
  "kernelspec": {
   "display_name": "conda_tensorflow_p36",
   "language": "python",
   "name": "conda_tensorflow_p36"
  },
  "language_info": {
   "codemirror_mode": {
    "name": "ipython",
    "version": 3
   },
   "file_extension": ".py",
   "mimetype": "text/x-python",
   "name": "python",
   "nbconvert_exporter": "python",
   "pygments_lexer": "ipython3",
   "version": "3.6.5"
  }
 },
 "nbformat": 4,
 "nbformat_minor": 2
}
