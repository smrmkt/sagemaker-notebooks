{
 "cells": [
  {
   "cell_type": "markdown",
   "metadata": {},
   "source": [
    "# SageMaker で提供される Linear Learner アルゴリズムの学習と推論を行う\n",
    "\n",
    "#### ノートブックに含まれる内容\n",
    "\n",
    "- Amazon が提供するアルゴリズムの使いかた\n",
    "- 中でも，Linear Learner (線形回帰) アルゴリズムの使い方\n",
    "\n",
    "#### ノートブックで使われている手法の詳細\n",
    "\n",
    "- アルゴリズム: Linear Learner\n",
    "- データ: abalone データ\n"
   ]
  },
  {
   "cell_type": "markdown",
   "metadata": {},
   "source": [
    "## セットアップ"
   ]
  },
  {
   "cell_type": "code",
   "execution_count": null,
   "metadata": {},
   "outputs": [],
   "source": [
    "import boto3\n",
    "import re\n",
    "\n",
    "import os\n",
    "import csv\n",
    "import json\n",
    "import numpy as np\n",
    "import pandas as pd\n",
    "from sagemaker import get_execution_role\n",
    "\n",
    "# AWS credential で指定された role を返す\n",
    "role = get_execution_role()"
   ]
  },
  {
   "cell_type": "code",
   "execution_count": null,
   "metadata": {},
   "outputs": [],
   "source": [
    "# SageMaker のセッションを作成\n",
    "import sagemaker as sage\n",
    "from time import gmtime, strftime\n",
    "\n",
    "sess = sage.Session()"
   ]
  },
  {
   "cell_type": "markdown",
   "metadata": {},
   "source": [
    "## データのロード\n",
    "\n",
    "SageMaker の学習時につかうデータは，S3 に置く必要があります．ここでは，データを SageMaker SDK が用意しているメソッドを用いて，ラベルデータと特徴量データに分けた上で，RecordIO フォーマットに変換します．その上で S3 にアップロードする形をとります．SageMaker の LinearLearner では\n",
    "\n",
    "ここではいったん，numpy 形式でデータを読み込み，ラベルデータと特徴量データに分割します．また，Linear Learner ではデータ型として float32 のみをサポートしているため，ここでは numpy array として読み込んだデータを float32 にキャストしています．"
   ]
  },
  {
   "cell_type": "code",
   "execution_count": null,
   "metadata": {},
   "outputs": [],
   "source": [
    "train_data = np.loadtxt('data/abalone_train.csv', delimiter=',', dtype='float32')\n",
    "train_labels = train_data[:, 0]\n",
    "train_features = train_data[:, 1:]"
   ]
  },
  {
   "cell_type": "markdown",
   "metadata": {},
   "source": [
    "## モデルの学習を実行\n",
    "\n",
    "データの準備ができたら，さっそく学習ジョブを実行しましょう．ここでは，SageMaker SDK であらかじめ用意されている `LinearLearner` クラスを用います．`LinearLearner` オブジェクトを作成したら，`record_set()` メソッドを用いて RecordIO 形式に変換したデータを S3 にアップした上で，このデータを用いて `fit()` メソッドで学習ジョブを走らせます．"
   ]
  },
  {
   "cell_type": "code",
   "execution_count": null,
   "metadata": {},
   "outputs": [],
   "source": [
    "import boto3\n",
    "from sagemaker import LinearLearner, LinearLearnerModel\n",
    "\n",
    "linear_estimator = LinearLearner(role, \n",
    "                                 train_instance_count=1, \n",
    "                                 train_instance_type='ml.m4.xlarge',\n",
    "                                 predictor_type='regressor')\n",
    "\n",
    "records = linear_estimator.record_set(train_features, labels=train_labels)\n",
    "\n",
    "linear_estimator.fit(records)"
   ]
  },
  {
   "cell_type": "markdown",
   "metadata": {},
   "source": [
    "## モデルの推論を実行\n",
    "\n",
    "推論を行うために，Estimateor オブジェクトからモデルオブジェクトを作成した上で，モデルをエンドポイントにデプロイします．deploy() メソッドでは，デプロイ先エンドポイントのインスタンス数，インスタンスタイプを指定します．モデルのデプロイには 10 分程度時間がかかります．"
   ]
  },
  {
   "cell_type": "code",
   "execution_count": null,
   "metadata": {},
   "outputs": [],
   "source": [
    "linear_model = LinearLearnerModel(linear_estimator.model_data,\n",
    "                                  role=role,\n",
    "                                  sagemaker_session=sess)"
   ]
  },
  {
   "cell_type": "code",
   "execution_count": null,
   "metadata": {
    "scrolled": true
   },
   "outputs": [],
   "source": [
    "linear_predictor = linear_model.deploy(initial_instance_count=1,\n",
    "                                       instance_type='ml.m4.xlarge')"
   ]
  },
  {
   "cell_type": "markdown",
   "metadata": {},
   "source": [
    "エンドポイントの準備ができたら，boto3 クライアント経由で，ローカルファイルから読み込んだテストデータをエンドポイントに投げて，予測を行い結果を表示してみます．"
   ]
  },
  {
   "cell_type": "code",
   "execution_count": null,
   "metadata": {},
   "outputs": [],
   "source": [
    "import boto3\n",
    "\n",
    "sagemaker = boto3.client('sagemaker-runtime')\n",
    "\n",
    "with open('data/abalone_predict.csv') as f:\n",
    "    csvreader = csv.reader(f)\n",
    "    for line in csvreader:\n",
    "        label = line[0]\n",
    "        features = ','.join(line[1:])\n",
    "        response = sagemaker.invoke_endpoint(\n",
    "            EndpointName=linear_predictor.endpoint,\n",
    "            Body=features,\n",
    "            ContentType='text/csv'\n",
    "        )\n",
    "        predicted = json.loads(response[\"Body\"].read())['predictions'][0]['score']\n",
    "        print('correct label: {:2}, predicted label: {:>2.2f}'.format(int(label), float(predicted)))"
   ]
  },
  {
   "cell_type": "code",
   "execution_count": null,
   "metadata": {},
   "outputs": [],
   "source": [
    "with open('data/abalone_predict.csv') as f:\n",
    "    csvreader = csv.reader(f)\n",
    "    for line in csvreader:\n",
    "        label = line[0]\n",
    "        features = ','.join(line[1:])\n",
    "    print(features)"
   ]
  },
  {
   "cell_type": "markdown",
   "metadata": {},
   "source": [
    "## エンドポイントの削除\n",
    "\n",
    "全て終わったら，エンドポイントを削除します．"
   ]
  },
  {
   "cell_type": "code",
   "execution_count": null,
   "metadata": {},
   "outputs": [],
   "source": [
    "import sagemaker\n",
    "\n",
    "sagemaker.Session().delete_endpoint(linear_predictor.endpoint)"
   ]
  }
 ],
 "metadata": {
  "kernelspec": {
   "display_name": "conda_mxnet_p27",
   "language": "python",
   "name": "conda_mxnet_p27"
  },
  "language_info": {
   "codemirror_mode": {
    "name": "ipython",
    "version": 2
   },
   "file_extension": ".py",
   "mimetype": "text/x-python",
   "name": "python",
   "nbconvert_exporter": "python",
   "pygments_lexer": "ipython2",
   "version": "2.7.14"
  },
  "notice": "Copyright 2017 Amazon.com, Inc. or its affiliates. All Rights Reserved.  Licensed under the Apache License, Version 2.0 (the \"License\"). You may not use this file except in compliance with the License. A copy of the License is located at http://aws.amazon.com/apache2.0/ or in the \"license\" file accompanying this file. This file is distributed on an \"AS IS\" BASIS, WITHOUT WARRANTIES OR CONDITIONS OF ANY KIND, either express or implied. See the License for the specific language governing permissions and limitations under the License."
 },
 "nbformat": 4,
 "nbformat_minor": 2
}
