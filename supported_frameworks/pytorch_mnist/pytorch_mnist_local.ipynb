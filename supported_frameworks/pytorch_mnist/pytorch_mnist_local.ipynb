{
 "cells": [
  {
   "cell_type": "markdown",
   "metadata": {
    "collapsed": true
   },
   "source": [
    "# PyTorch の学習と推論を SageMaker のローカルモードで行う\n",
    "\n",
    "#### ノートブックに含まれる内容\n",
    "\n",
    "- PyTorch の学習と推論を SageMaker のローカルモードで行うやりかた\n",
    "\n",
    "#### ノートブックで使われている手法の詳細\n",
    "\n",
    "- アルゴリズム: MNIST\n",
    "- データ: CNN"
   ]
  },
  {
   "cell_type": "markdown",
   "metadata": {},
   "source": [
    "まず，ローカル実行に必要なコンポーネントをインストールします．セットアップ手順はシェルスクリプトにまとまっているので，これを実行します．"
   ]
  },
  {
   "cell_type": "code",
   "execution_count": null,
   "metadata": {},
   "outputs": [],
   "source": [
    "!/bin/bash ./setup.sh"
   ]
  },
  {
   "cell_type": "code",
   "execution_count": null,
   "metadata": {},
   "outputs": [],
   "source": [
    "import sagemaker\n",
    "\n",
    "sagemaker_session = sagemaker.Session()\n",
    "\n",
    "role = sagemaker.get_execution_role()"
   ]
  },
  {
   "cell_type": "markdown",
   "metadata": {},
   "source": [
    "## データのロード\n",
    "\n",
    "ここでは，`PyTorch` でサポートされている関数を使って，MNIST データをダウンロードします．SageMaker の学習時につかうデータは，S3 に置く必要があります．ここでは，ローカルに落とした MNIST データを npz 形式で固めてから，SageMaker のラッパー関数を使って S3 にアップロードします．\n",
    "\n",
    "デフォルトでは SageMaker は `sagemaker-{region}-{your aws account number}` というバケットを使用します．当該バケットがない場合には，自動で新しく作成します．`upload_data()` メソッドの引数に bucket=XXXX という形でデータを配置するバケットを指定することが可能です"
   ]
  },
  {
   "cell_type": "code",
   "execution_count": null,
   "metadata": {},
   "outputs": [],
   "source": [
    "from torchvision import datasets, transforms\n",
    "\n",
    "datasets.MNIST('data', download=True, transform=transforms.Compose([\n",
    "    transforms.ToTensor(),\n",
    "    transforms.Normalize((0.1307,), (0.3081,))\n",
    "]))"
   ]
  },
  {
   "cell_type": "markdown",
   "metadata": {},
   "source": [
    "以下を実行する前に，**<span style=\"color: red;\">`sagemaker/DEMO-pytorch-mnist-XX` の XX を指定された適切な数字に変更</span>**してください．"
   ]
  },
  {
   "cell_type": "code",
   "execution_count": null,
   "metadata": {},
   "outputs": [],
   "source": [
    "bucket = sagemaker_session.default_bucket()\n",
    "prefix = 'sagemaker/DEMO-pytorch-mnist-XX'\n",
    "\n",
    "inputs = sagemaker_session.upload_data(path='data', bucket=bucket, key_prefix=prefix)\n",
    "print('input spec (in this case, just an S3 path): {}'.format(inputs))"
   ]
  },
  {
   "cell_type": "markdown",
   "metadata": {},
   "source": [
    "## PyTorch を SageMaker で使う際のポイント\n",
    "\n",
    "学習については，main 関数内にそのままモデルを記述するだけで大丈夫です．あとは SageMaker 側で学習ジョブを走らせる際に，main 関数内の学習処理が実行されます．ですので，既存の PyTorch の実行スクリプトをほぼそのまま SageMaker に移植することができます．また，環境変数経由で入力データの場所や GPU の数などを取得することが可能です．これは `argparse` 経由で `main` 関数内で受け取ることができます．詳細は[こちら](https://github.com/aws/sagemaker-python-sdk/blob/master/src/sagemaker/pytorch/README.rst)をご覧ください．\n",
    "\n",
    "また推論時の処理は，`model_fn` で学習済みモデルをロードする部分だけ記述する必要があります．その他オプションで，前処理，推論処理，後処理部分を `input_fn`, `predict_fn`, `output_fn` で書くこともできます．デフォルトでは，`application/x-npy` コンテントタイプで指定される，NumPy 配列を入力として受け取ります． \n"
   ]
  },
  {
   "cell_type": "code",
   "execution_count": null,
   "metadata": {
    "scrolled": false
   },
   "outputs": [],
   "source": [
    "!pygmentize mnist.py"
   ]
  },
  {
   "cell_type": "markdown",
   "metadata": {},
   "source": [
    "## モデルの学習を実行\n",
    "\n",
    "以下のように `PyTorch` オブジェクトを作成し，`fit()` メソッドで学習ジョブを実行します． `entry_point` で指定したローカルのスクリプトが，学習用のコンテナ内で実行されます．また合わせてローカルの `source_dir` を指定することで，依存するスクリプト群をコンテナにコピーして，学習時に使用することが可能です．そしてここでは，`train_instance_type` に `local` と指定しています．これにより，学習用コンテナをノートブックインスタンスのローカルに落としてきて，学習を行います．"
   ]
  },
  {
   "cell_type": "code",
   "execution_count": null,
   "metadata": {},
   "outputs": [],
   "source": [
    "from sagemaker.pytorch import PyTorch\n",
    "\n",
    "estimator = PyTorch(entry_point=\"mnist.py\",\n",
    "                    role=role,\n",
    "                    framework_version='0.4.0',\n",
    "                    train_instance_count=1,\n",
    "                    train_instance_type='local',\n",
    "                    hyperparameters={\n",
    "                        'epochs': 3,\n",
    "                        'backend': 'gloo'\n",
    "                    })\n",
    "\n",
    "estimator.fit({'training': inputs})"
   ]
  },
  {
   "cell_type": "markdown",
   "metadata": {},
   "source": [
    "# モデルの推論を実行\n",
    "\n",
    "\n",
    "推論を行うために，まず学習したモデルをデプロイします．`deploy()` メソッドでは，デプロイ先エンドポイントのインスタンス数，インスタンスタイプを指定します．こちらも同様に `local` としておくことで，ローカルにエンドポイントがすぐ立ち上がります．"
   ]
  },
  {
   "cell_type": "code",
   "execution_count": null,
   "metadata": {},
   "outputs": [],
   "source": [
    "predictor = estimator.deploy(initial_instance_count=1, instance_type='local')"
   ]
  },
  {
   "cell_type": "markdown",
   "metadata": {},
   "source": [
    "あとは，実際にキャンバスに文字を描いて，予測を行なってみましょう．"
   ]
  },
  {
   "cell_type": "code",
   "execution_count": null,
   "metadata": {},
   "outputs": [],
   "source": [
    "from IPython.display import HTML\n",
    "HTML(open(\"input.html\").read())"
   ]
  },
  {
   "cell_type": "code",
   "execution_count": null,
   "metadata": {},
   "outputs": [],
   "source": [
    "import numpy as np\n",
    "\n",
    "image = np.array([data], dtype=np.float32)\n",
    "response = predictor.predict(image)\n",
    "prediction = response.argmax(axis=1)[0]\n",
    "print(prediction)"
   ]
  },
  {
   "cell_type": "markdown",
   "metadata": {},
   "source": [
    "## エンドポイントの削除\n",
    "\n",
    "全て終わったら，エンドポイントを削除します．"
   ]
  },
  {
   "cell_type": "code",
   "execution_count": null,
   "metadata": {},
   "outputs": [],
   "source": [
    "estimator.delete_endpoint()"
   ]
  },
  {
   "cell_type": "code",
   "execution_count": null,
   "metadata": {},
   "outputs": [],
   "source": []
  }
 ],
 "metadata": {
  "kernelspec": {
   "display_name": "conda_pytorch_p27",
   "language": "python",
   "name": "conda_pytorch_p27"
  },
  "language_info": {
   "codemirror_mode": {
    "name": "ipython",
    "version": 2
   },
   "file_extension": ".py",
   "mimetype": "text/x-python",
   "name": "python",
   "nbconvert_exporter": "python",
   "pygments_lexer": "ipython2",
   "version": "2.7.15"
  },
  "notice": "Copyright 2018 Amazon.com, Inc. or its affiliates. All Rights Reserved.  Licensed under the Apache License, Version 2.0 (the \"License\"). You may not use this file except in compliance with the License. A copy of the License is located at http://aws.amazon.com/apache2.0/ or in the \"license\" file accompanying this file. This file is distributed on an \"AS IS\" BASIS, WITHOUT WARRANTIES OR CONDITIONS OF ANY KIND, either express or implied. See the License for the specific language governing permissions and limitations under the License."
 },
 "nbformat": 4,
 "nbformat_minor": 1
}
