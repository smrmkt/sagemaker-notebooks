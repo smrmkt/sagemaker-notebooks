{
 "cells": [
  {
   "cell_type": "markdown",
   "metadata": {},
   "source": [
    "# Tensorflow で定義される Estimator を使った SageMaker の学習と推論\n",
    "\n",
    "#### ノートブックに含まれる内容\n",
    "\n",
    "- Tensorflow の `tf.estimator` を SageMaker で使うときの基本的なやりかた\n",
    "- `input_fn` を使った，推論時の入力データに対する前処理\n",
    "\n",
    "#### ノートブックで使われている手法の詳細\n",
    "\n",
    "- アルゴリズム: `tf.estimator.DNNClassifier`\n",
    "- データ: iris"
   ]
  },
  {
   "cell_type": "markdown",
   "metadata": {},
   "source": [
    "## セットアップ\n",
    "\n",
    "必要なパラメタをセットします．"
   ]
  },
  {
   "cell_type": "code",
   "execution_count": null,
   "metadata": {
    "isConfigCell": true
   },
   "outputs": [],
   "source": [
    "import sagemaker\n",
    "from sagemaker import get_execution_role\n",
    "\n",
    "sagemaker_session = sagemaker.Session()\n",
    "\n",
    "role = get_execution_role()"
   ]
  },
  {
   "cell_type": "markdown",
   "metadata": {},
   "source": [
    "## データのロード\n",
    "\n",
    "この例では，SageMaker の S3 バケットにすでに用意されているデータをそのまま使うので，特にデータロードの必要はありません．\n",
    "\n",
    "[Iris data set](https://en.wikipedia.org/wiki/Iris_flower_data_set) には，150 行のデータが含まれており，3 種類のアヤメ（Iris setosa, Iris versicolor, Iris virginica）のデータがそれぞれ 50 行ずつ存在します．\n",
    "\n",
    "各行のデータには，がく片の長さと幅，花びらの長さと幅が含まれています．最後のカラムは，[0|1|2] に符号化された，アヤメの種類です．このチュートリアルでは，150 行のデータのうち 120 行を `iris_training.csv` として学習用に，30 行を `iris_test.csv` として評価用に使います．\n",
    "\n",
    "Sepal Length | Sepal Width | Petal Length | Petal Width | Species\n",
    ":----------- | :---------- | :----------- | :---------- | :-------\n",
    "5.1          | 3.5         | 1.4          | 0.2         | 0\n",
    "4.9          | 3.0         | 1.4          | 0.2         | 0\n",
    "4.7          | 3.2         | 1.3          | 0.2         | 0\n",
    "&hellip;     | &hellip;    | &hellip;     | &hellip;    | &hellip;\n",
    "7.0          | 3.2         | 4.7          | 1.4         | 1\n",
    "6.4          | 3.2         | 4.5          | 1.5         | 1\n",
    "6.9          | 3.1         | 4.9          | 1.5         | 1\n",
    "&hellip;     | &hellip;    | &hellip;     | &hellip;    | &hellip;\n",
    "6.5          | 3.0         | 5.2          | 2.0         | 2\n",
    "6.2          | 3.4         | 5.4          | 2.3         | 2\n",
    "5.9          | 3.0         | 5.1          | 1.8         | 2"
   ]
  },
  {
   "cell_type": "markdown",
   "metadata": {},
   "source": [
    "以下を実行する前に，**<span style=\"color: red;\">`data/iris/XX` の `XX` を指定された適切な数字に変更</span>**してください"
   ]
  },
  {
   "cell_type": "code",
   "execution_count": null,
   "metadata": {},
   "outputs": [],
   "source": [
    "inputs = sagemaker_session.upload_data(path='data', key_prefix='data/iris/XX')"
   ]
  },
  {
   "cell_type": "markdown",
   "metadata": {},
   "source": [
    "## Tensorflow で `tf.estimator` および  `input_fn` を使うときのスクリプトの中身を確認"
   ]
  },
  {
   "cell_type": "markdown",
   "metadata": {},
   "source": [
    "### `tf.estimator`\n",
    "\n",
    "tensorflow にはあらかじめ定番の Estimator が用意されているため，Sagemaker でもこれを利用することができます．この Estimator の詳細については，[こちら](https://www.tensorflow.org/extend/estimators) から確認することができます．\n",
    "\n",
    "- `tf.estimator.LinearClassifier`: 線形分類モデル\n",
    "- `tf.estimator.LinearRegressor`: 線形回帰モデル\n",
    "- `tf.estimator.DNNClassifier`: ディープニューラルネットワーク分類モデル\n",
    "- `tf.estimator.DNNRegressor`: ディープニューラルネットワーク回帰モデル\n",
    "\n",
    "通常はモデルを定義するために `model_fn` を用いますが，既存の `tf.estimator` を使用する場合には，`model_fn` の代わりに `estimator_fn` を用います．今回は定番の `tf.estimator.DNNClassifier` を用いるため，`estimator_fn` を使用します．"
   ]
  },
  {
   "cell_type": "markdown",
   "metadata": {},
   "source": [
    "### `input_fn`\n",
    "\n",
    "推論時のリクエストは，以下のようなフローとして処理されます．`input_fn` および `output_fn` はオプショナルなメソッドで，特に前処理および後処理を行う必要がない場合には，記述する必要はありません．詳細については[こちら](https://github.com/aws/sagemaker-python-sdk#model-serving)をご覧ください．\n",
    "\n",
    "```python\n",
    "# invokeEndpoint を叩いたリクエストの中身が，まず input_fn に送られますので，ここで必要な前処理を行います\n",
    "input_object = input_fn(request_body, request_content_type)\n",
    "\n",
    "# input_fn の出力をもとに，デプロイしたモデルで予測を行い，結果を返します\n",
    "# このメソッドはオーバーライドすることはできません．SageMaker 側で自動的に処理が行われます\n",
    "prediction = predict_fn(input_object, model)\n",
    "\n",
    "# 予測結果がクライアントに返される前に，output_fn で後処理を行います\n",
    "ouput = output_fn(prediction, response_content_type)\n",
    "```\n",
    "\n",
    "今回は，pickle 形式でリクエスト Body を受け取って，これを Tensorflow Serving に引渡し可能な配列形式に変換します．以下のコマンドを叩いて，実際にスクリプトの中身を確認してみてください．"
   ]
  },
  {
   "cell_type": "code",
   "execution_count": null,
   "metadata": {},
   "outputs": [],
   "source": [
    "!cat \"iris_dnn_classifier.py\""
   ]
  },
  {
   "cell_type": "markdown",
   "metadata": {},
   "source": [
    "## モデルの学習を実行\n",
    "\n",
    "学習時の記述は，通常の Tensorflow の実行と変わりはありません．"
   ]
  },
  {
   "cell_type": "code",
   "execution_count": null,
   "metadata": {},
   "outputs": [],
   "source": [
    "from sagemaker.tensorflow import TensorFlow\n",
    "\n",
    "iris_estimator = TensorFlow(entry_point='iris_dnn_classifier.py',\n",
    "                            role=role,\n",
    "                            train_instance_count=1,\n",
    "                            train_instance_type='ml.m4.xlarge',\n",
    "                            training_steps=100,\n",
    "                            evaluation_steps=10)\n",
    "\n",
    "iris_estimator.fit(inputs)"
   ]
  },
  {
   "cell_type": "markdown",
   "metadata": {},
   "source": [
    "## モデルの推論を実行\n",
    "\n",
    "`deploy()` メソッドを使って，学習済みモデルのデプロイを実施します．それが完了したら，`predict()` メソッドで実際に予測を行ってみます．"
   ]
  },
  {
   "cell_type": "code",
   "execution_count": null,
   "metadata": {
    "scrolled": true
   },
   "outputs": [],
   "source": [
    "%%time\n",
    "iris_predictor = iris_estimator.deploy(initial_instance_count=1,\n",
    "                                       instance_type='ml.m4.xlarge')"
   ]
  },
  {
   "cell_type": "markdown",
   "metadata": {},
   "source": [
    "`input_fn` では，pickle 形式でリクエスト Body を受け取って，これを Tensorflow Serving に引渡し可能な配列形式に変換します．ですのでリクエストデータを pickle 形式に変換してからリクエストを投げます（`estimator.predict()` では `ContentType` の設定ができないため，ここでは boto3 ライブラリから API を直接叩いています）．"
   ]
  },
  {
   "cell_type": "code",
   "execution_count": null,
   "metadata": {
    "scrolled": true
   },
   "outputs": [],
   "source": [
    "import numpy as np\n",
    "import pickle\n",
    "import boto3\n",
    "\n",
    "client = boto3.client('sagemaker-runtime')\n",
    "pickled = pickle.dumps([3.4, 2.2, 1.5, 6.5])\n",
    "response = client.invoke_endpoint(\n",
    "    EndpointName=iris_predictor.endpoint,\n",
    "    Body=pickled,\n",
    "    ContentType='application/python-pickle')\n",
    "print(response[\"Body\"].read())\n"
   ]
  },
  {
   "cell_type": "markdown",
   "metadata": {},
   "source": [
    "## エンドポイントの削除\n",
    "\n",
    "全て終わったら，エンドポイントを削除します．"
   ]
  },
  {
   "cell_type": "code",
   "execution_count": null,
   "metadata": {},
   "outputs": [],
   "source": [
    "import sagemaker\n",
    "\n",
    "sagemaker_session.delete_endpoint(iris_predictor.endpoint)"
   ]
  }
 ],
 "metadata": {
  "kernelspec": {
   "display_name": "conda_tensorflow_p27",
   "language": "python",
   "name": "conda_tensorflow_p27"
  },
  "language_info": {
   "codemirror_mode": {
    "name": "ipython",
    "version": 2
   },
   "file_extension": ".py",
   "mimetype": "text/x-python",
   "name": "python",
   "nbconvert_exporter": "python",
   "pygments_lexer": "ipython2",
   "version": "2.7.14"
  },
  "notice": "Copyright 2017 Amazon.com, Inc. or its affiliates. All Rights Reserved.  Licensed under the Apache License, Version 2.0 (the \"License\"). You may not use this file except in compliance with the License. A copy of the License is located at http://aws.amazon.com/apache2.0/ or in the \"license\" file accompanying this file. This file is distributed on an \"AS IS\" BASIS, WITHOUT WARRANTIES OR CONDITIONS OF ANY KIND, either express or implied. See the License for the specific language governing permissions and limitations under the License."
 },
 "nbformat": 4,
 "nbformat_minor": 1
}
