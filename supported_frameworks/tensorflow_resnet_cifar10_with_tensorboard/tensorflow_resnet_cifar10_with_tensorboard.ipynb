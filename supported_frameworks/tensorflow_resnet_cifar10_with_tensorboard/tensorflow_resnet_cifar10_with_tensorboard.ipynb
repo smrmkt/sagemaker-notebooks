{
 "cells": [
  {
   "cell_type": "markdown",
   "metadata": {},
   "source": [
    "\n",
    "# Tensorflow の学習と推論を SageMaker で行う\n",
    "\n",
    "#### ノートブックに含まれる内容\n",
    "\n",
    "- Tensorflow を SageMaker で使うときの，基本的なやりかた\n",
    "- Tensorboard の立ち上げかた\n",
    "\n",
    "#### ノートブックで使われている手法の詳細\n",
    "\n",
    "- アルゴリズム: ResNet\n",
    "- データ: CIFAR10\n",
    "- 可視化手段: Tensorboard"
   ]
  },
  {
   "cell_type": "markdown",
   "metadata": {},
   "source": [
    "## セットアップ"
   ]
  },
  {
   "cell_type": "code",
   "execution_count": null,
   "metadata": {},
   "outputs": [],
   "source": [
    "import os\n",
    "import sagemaker\n",
    "from sagemaker import get_execution_role\n",
    "\n",
    "# SageMaker セッションを作成して，ロールを取得する\n",
    "sagemaker_session = sagemaker.Session()\n",
    "role = get_execution_role()"
   ]
  },
  {
   "cell_type": "markdown",
   "metadata": {},
   "source": [
    "## データのロード\n",
    "\n",
    "[CIFAR-10](https://www.cs.toronto.edu/~kriz/cifar.html) データセットをローカルにダウンロードして，S3 にアップロードします．CIFAR-10 は，定番の画像データセットで，50000枚の学習用画像と，10000枚の評価用画像から構成されます．クラス数は 10 で，各画像は 32x32 ピクセルで，RGB の 3 チャネルです．\n",
    "\n",
    "トレーニングデータとテストデータのダウンロードには 5 分程度かかります．また以下を実行する前に，**<span style=\"color: red;\">2 行目の `data/cifar10/XX` の `XX` を指定された適切な数字に変更</span>**してください．"
   ]
  },
  {
   "cell_type": "code",
   "execution_count": null,
   "metadata": {
    "scrolled": false
   },
   "outputs": [],
   "source": [
    "import utils\n",
    "\n",
    "utils.cifar10_download()\n",
    "inputs = sagemaker_session.upload_data(path='/tmp/cifar10_data', key_prefix='data/cifar10/XX')"
   ]
  },
  {
   "cell_type": "markdown",
   "metadata": {},
   "source": [
    "## Tensorflow のスクリプトの中身を確認\n",
    "\n",
    "SageMaker で Tensorflow の学習ジョブを走らせる際には，以下のインターフェースを備えたスクリプトを用意する必要があります．これら 4 つのメソッドは，すべて実装されていなければなりません．\n",
    "\n",
    "### 学習時に必要なメソッド\n",
    "\n",
    "* `model_fn`: 学習用のモデルを記述したメソッド\n",
    "* `train_input_fn`: 学習用のデータに対する，前処理およびロード処理を記述したメソッド\n",
    "* `eval_input_fn`: 評価用のデータに対する，前処理およびロード処理を記述したメソッド\n",
    "* `serving_input_fn`: 推論の際にモデルに引き渡される特徴量を記述したメソッド\n",
    "\n",
    "#### `model_fn` でのモデルの書きかた\n",
    "\n",
    "`model_fn` で学習および推論に使われるモデルを定義しています．`model_fn` の中には，通常以下の 5 つの要素が含まれます．\n",
    "\n",
    "1. [ニューラルネットワークの定義](https://github.com/tensorflow/models/blob/master/official/mnist/mnist.py#L96)\n",
    "- [ニューラルネットワークの特徴量を適用](https://github.com/tensorflow/models/blob/master/official/mnist/mnist.py#L178)\n",
    "- [`mode` が `predict` の場合には，ニューラルネットワークの予測結果を返す](https://github.com/tensorflow/models/blob/master/official/mnist/mnist.py#L186)\n",
    "- [`labels` と予測値を比較して，損失関数を計算する](https://github.com/tensorflow/models/blob/master/official/mnist/mnist.py#L188)\n",
    "- [損失関数を最適化するためのオプティマイザを作成する](https://github.com/tensorflow/models/blob/master/official/mnist/mnist.py#L193)\n",
    "- [予測値，オプティマイザ，損失関数を返す](https://github.com/tensorflow/models/blob/master/official/mnist/mnist.py#L205)\n",
    "\n",
    "なお，自分でアルゴリズムを記述するのではなく，既存の Tensorflow のクラスを使う場合には，`model_fn` の替わりに `estimator_fn` を記述します．また，`tf.keras` を使ってモデルを記述する場合には，同じく `model_fn` ではなく `keras_model_fn` メソッドを記述します．\n",
    "\n",
    "### 推論時のオプショナルメソッド\n",
    "\n",
    "また SageMaker で推論を行う際に，前処理および後処理を行う場合には，併せて以下の 2 つのメソッドを実装します．例えば推論時のリケストで pickle 形式の Body が送られてくる場合，このままでは Tensorflow の Serving が読み取ることができません（デフォルトでサポートしているリクエスト Body の形式は，CSV, JSON, Protbuf の 3 種類のみです）．そのため，Pickle を Serving が読み取れるようなデータ形式に変換する必要があります．そのときには，`input_fn` で変換処理を記述します．\n",
    "\n",
    "特に前処理および後処理を行う必要がないときは，以下の 2 つのメソッドを記述する必要はありません．\n",
    "\n",
    "* `input_fn`: 入力データの変形を行うメソッド\n",
    "* `output_fn`: 出力データの変形を行うメソド\n",
    "\n",
    "これらのメソッドの詳細については，[公式ドキュメント](https://docs.aws.amazon.com/ja_jp/sagemaker/latest/dg/tf-training-inference-code-template.html)および[SageMaker SDK の readme](https://github.com/aws/sagemaker-python-sdk#tensorflow-sagemaker-estimators) に記述がありますので，そちらを参照してください．\n",
    "\n",
    "今回の ResNet に関しては，以下の 2 つのスクリプトがあります．メインスクリプトの方に，上で示したインターフェースメソッドが定義されています．\n",
    "\n",
    "* [source_dir/resnet_cifar_10.py](source_dir/resnet_cifar_10.py): 学習と推論に使われるメインスクリプト\n",
    "* [source_dir/resnet_model.py](source_dir/resnet_model.py): ResNet モデル"
   ]
  },
  {
   "cell_type": "code",
   "execution_count": null,
   "metadata": {},
   "outputs": [],
   "source": [
    "!cat source_dir/resnet_cifar_10.py"
   ]
  },
  {
   "cell_type": "markdown",
   "metadata": {},
   "source": [
    "## モデルの学習を実行\n",
    "\n",
    "SageMaker SDK には，Tensorflow 専用の Estimator として，sagemaker.tensorflow.TensorFlow クラスがあります．ここでは，先ほどの `source_dir/resnet_cifar_10.py` をエントリーポイントとして指定して，Tensorflow の学習ジョブを実行します．\n",
    "\n",
    "`fit()` を実行する際に，オプションとして `run_tensorboard_locally=True` を指定することで，デフォルトポートとして 6006 番を使用して，TensorBoasrd を起動します（当該ポートが埋まっている場合には，他のポートが使われます）．TensorBoard には，ノートブックインスタンス上からの場合 [proxy/6006/](/proxy/6006/) でアクセスします（使用するポートが異なる場合には，適宜差し替えてください）．ジョブが立ち上がるまでには数分程度かかります．"
   ]
  },
  {
   "cell_type": "code",
   "execution_count": null,
   "metadata": {
    "scrolled": false
   },
   "outputs": [],
   "source": [
    "from sagemaker.tensorflow import TensorFlow\n",
    "\n",
    "source_dir = os.path.join(os.getcwd(), 'source_dir')\n",
    "estimator = TensorFlow(entry_point='resnet_cifar_10.py',\n",
    "                       source_dir=source_dir,\n",
    "                       role=role,\n",
    "                       training_steps=10,\n",
    "                       evaluation_steps=3,\n",
    "                       train_instance_count=1,\n",
    "                       train_instance_type='ml.m4.xlarge', \n",
    "                       base_job_name='tensorboard-example')\n",
    "\n",
    "estimator.fit(inputs, run_tensorboard_locally=True)"
   ]
  },
  {
   "cell_type": "markdown",
   "metadata": {
    "collapsed": true
   },
   "source": [
    "## モデルの推論を実行　\n",
    "\n",
    "`deploy()` メソッドを実行することで，リアルタイムに推論結果を返すエンドポイントを立ち上げることができます．"
   ]
  },
  {
   "cell_type": "code",
   "execution_count": null,
   "metadata": {},
   "outputs": [],
   "source": [
    "predictor = estimator.deploy(initial_instance_count=1, instance_type='ml.m4.xlarge')"
   ]
  },
  {
   "cell_type": "markdown",
   "metadata": {},
   "source": [
    "## エンドポイントの削除\n",
    "\n",
    "全て終わったら，エンドポイントを削除します．"
   ]
  },
  {
   "cell_type": "code",
   "execution_count": null,
   "metadata": {},
   "outputs": [],
   "source": [
    "sagemaker.Session().delete_endpoint(predictor.endpoint)"
   ]
  }
 ],
 "metadata": {
  "kernelspec": {
   "display_name": "conda_tensorflow_p27",
   "language": "python",
   "name": "conda_tensorflow_p27"
  },
  "language_info": {
   "codemirror_mode": {
    "name": "ipython",
    "version": 2
   },
   "file_extension": ".py",
   "mimetype": "text/x-python",
   "name": "python",
   "nbconvert_exporter": "python",
   "pygments_lexer": "ipython2",
   "version": "2.7.14"
  },
  "notice": "Copyright 2017 Amazon.com, Inc. or its affiliates. All Rights Reserved.  Licensed under the Apache License, Version 2.0 (the \"License\"). You may not use this file except in compliance with the License. A copy of the License is located at http://aws.amazon.com/apache2.0/ or in the \"license\" file accompanying this file. This file is distributed on an \"AS IS\" BASIS, WITHOUT WARRANTIES OR CONDITIONS OF ANY KIND, either express or implied. See the License for the specific language governing permissions and limitations under the License."
 },
 "nbformat": 4,
 "nbformat_minor": 2
}
