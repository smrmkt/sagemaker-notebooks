{
 "cells": [
  {
   "cell_type": "markdown",
   "metadata": {},
   "source": [
    "# Tensorflow のバッチ推論を SageMaker で行う\n",
    "\n",
    "#### ノートブックに含まれる内容\n",
    "\n",
    "- Tensorflow のバッチ推論を SageMaker で行うやりかた\n",
    "\n",
    "#### ノートブックで使われている手法の詳細\n",
    "\n",
    "- アルゴリズム: MNIST\n",
    "- データ: CNN"
   ]
  },
  {
   "cell_type": "markdown",
   "metadata": {},
   "source": [
    "## セットアップ"
   ]
  },
  {
   "cell_type": "code",
   "execution_count": null,
   "metadata": {},
   "outputs": [],
   "source": [
    "import os\n",
    "import sagemaker\n",
    "import boto3\n",
    "from sagemaker import get_execution_role\n",
    "from sagemaker.session import Session\n",
    "\n",
    "sagemaker_session = sagemaker.Session()\n",
    "\n",
    "role = get_execution_role()"
   ]
  },
  {
   "cell_type": "markdown",
   "metadata": {},
   "source": [
    "## データのロード\n",
    "\n",
    "Tensorflow 向けに，protobuf フォーマットの TFRecord に変換して，変換済データを S3 にアップロードします．SageMaker の学習時につかうデータは，S3 に置く必要があります．ここでは，MNIST データをダウンロードしてからローカルにある `utils.py` 変換処理を行って，S3 にアップロードします．\n",
    "\n",
    "デフォルトでは SageMaker は sagemaker-{region}-{your aws account number} というバケットを使用します．当該バケットがない場合には，自動で新しく作成します．upload_data() メソッドの引数に bucket=XXXX という形でデータを配置するバケットを指定することが可能です．"
   ]
  },
  {
   "cell_type": "code",
   "execution_count": null,
   "metadata": {
    "scrolled": false
   },
   "outputs": [],
   "source": [
    "import utils\n",
    "from tensorflow.contrib.learn.python.learn.datasets import mnist\n",
    "import tensorflow as tf\n",
    "\n",
    "data_sets = mnist.read_data_sets('data', dtype=tf.uint8, reshape=False, validation_size=5000)\n",
    "\n",
    "utils.convert_to(data_sets.train, 'train', 'data')\n",
    "utils.convert_to(data_sets.validation, 'validation', 'data')\n",
    "utils.convert_to(data_sets.test, 'test', 'data')"
   ]
  },
  {
   "cell_type": "markdown",
   "metadata": {},
   "source": [
    "以下を実行する前に，**<span style=\"color: red;\">`data/mnist/XX` の `XX` を指定された適切な数字に変更</span>**してください"
   ]
  },
  {
   "cell_type": "code",
   "execution_count": null,
   "metadata": {},
   "outputs": [],
   "source": [
    "inputs = sagemaker_session.upload_data(path='data', key_prefix='data/DEMO-mnist')"
   ]
  },
  {
   "cell_type": "markdown",
   "metadata": {},
   "source": [
    "## モデルの学習を実行\n",
    "\n",
    "学習プロセスは，通常の SageMaker での Tensorflow の使い方と変わりはありません．Tensorflow オブジェクトを作って，`fit()` で学習するだけです．"
   ]
  },
  {
   "cell_type": "code",
   "execution_count": null,
   "metadata": {
    "scrolled": false
   },
   "outputs": [],
   "source": [
    "from sagemaker.tensorflow import TensorFlow\n",
    "\n",
    "mnist_estimator = TensorFlow(entry_point='mnist.py',\n",
    "                             role=role,\n",
    "                             training_steps=3, \n",
    "                             evaluation_steps=2,\n",
    "                             train_instance_count=1,\n",
    "                             train_instance_type='ml.m4.xlarge')\n",
    "\n",
    "mnist_estimator.fit(inputs)"
   ]
  },
  {
   "cell_type": "markdown",
   "metadata": {},
   "source": [
    "## モデルのバッチ推論を実行\n",
    "\n",
    "学習が終わったら，`deploy()` による通常のエンドポイント作成と異なり，バッチ推論の場合は `Transformer` オブジェクトを作成します．作成したオブジェクトに対して，実際に `transfor()` を実行することではじめて，裏側でインスタンスが立ち上がりバッチ推論が実行されます．\n",
    "\n",
    "なお，ここでは `estimator.transformer()` で `Transformer` オブジェクトを作成しましたが，直接モデル名を指定して，`Transformer()` でオブジェクトを初期化することも可能です．詳細については [SageMaker Python SDK の github リポジトリ](https://github.com/aws/sagemaker-python-sdk#sagemaker-batch-transform)を参照してください．"
   ]
  },
  {
   "cell_type": "code",
   "execution_count": null,
   "metadata": {},
   "outputs": [],
   "source": [
    "transformer = mnist_estimator.transformer(instance_count=1, instance_type='ml.m4.xlarge')"
   ]
  },
  {
   "cell_type": "markdown",
   "metadata": {},
   "source": [
    "バッチ推論を行う際には，S3 上のデータを入力として指定します．なおここでは省略していますが，出力については `Transformer` の初期化の際に指定することが可能です．詳細については [API Doc](https://sagemaker.readthedocs.io/en/latest/transformer.html#sagemaker.transformer.Transformer) をご覧ください．"
   ]
  },
  {
   "cell_type": "code",
   "execution_count": null,
   "metadata": {},
   "outputs": [],
   "source": [
    "input_bucket_name = 'sagemaker-sample-data-{}'.format(boto3.Session().region_name)\n",
    "input_file_name = 'data.csv'\n",
    "input_file_path = 'batch-transform/mnist/' + input_file_name\n",
    "test_data = 's3://{}/{}'.format(input_bucket_name, input_file_path)\n",
    "\n",
    "transformer.transform(test_data, content_type='text/csv')"
   ]
  },
  {
   "cell_type": "markdown",
   "metadata": {},
   "source": [
    "上記の `transform()` は非同期処理のメソッドですので，SageMaker に対してバッチ推論ジョブをリクエストしたら終了します．これを明示的にジョブの終了まで待つ場合には，`wait()` メソッドをご使用ください．"
   ]
  },
  {
   "cell_type": "code",
   "execution_count": null,
   "metadata": {},
   "outputs": [],
   "source": [
    "transformer.wait()"
   ]
  },
  {
   "cell_type": "markdown",
   "metadata": {},
   "source": [
    "### バッチ推論の結果を確認\n",
    "\n",
    "上記のバッチが終わったら，S3 の出力先のパスを確認した上でダウンロードして，結果を確認しましょう．"
   ]
  },
  {
   "cell_type": "code",
   "execution_count": null,
   "metadata": {},
   "outputs": [],
   "source": [
    "print(transformer.output_path)"
   ]
  },
  {
   "cell_type": "markdown",
   "metadata": {},
   "source": [
    "あとは通常の `boto3` クライアントを使って，手元にファイルをダウンロードして，表示してみます．"
   ]
  },
  {
   "cell_type": "code",
   "execution_count": null,
   "metadata": {},
   "outputs": [],
   "source": [
    "import boto3\n",
    "import json\n",
    "from urllib.parse import urlparse\n",
    "\n",
    "s3 = boto3.resource('s3')\n",
    "\n",
    "parsed_url = urlparse(transformer.output_path)\n",
    "bucket_name = parsed_url.netloc\n",
    "file_key = '{}/{}.out'.format(parsed_url.path[1:], input_file_name)\n",
    "\n",
    "output_obj = s3.Object(bucket_name, file_key)\n",
    "output = output_obj.get()[\"Body\"].read()\n",
    "\n",
    "print('Prediction is {}'.format(json.loads(output)['outputs']['classes']['int64Val']))"
   ]
  }
 ],
 "metadata": {
  "kernelspec": {
   "display_name": "conda_tensorflow_p36",
   "language": "python",
   "name": "conda_tensorflow_p36"
  },
  "language_info": {
   "codemirror_mode": {
    "name": "ipython",
    "version": 3
   },
   "file_extension": ".py",
   "mimetype": "text/x-python",
   "name": "python",
   "nbconvert_exporter": "python",
   "pygments_lexer": "ipython3",
   "version": "3.6.4"
  },
  "notice": "Copyright 2017 Amazon.com, Inc. or its affiliates. All Rights Reserved.  Licensed under the Apache License, Version 2.0 (the \"License\"). You may not use this file except in compliance with the License. A copy of the License is located at http://aws.amazon.com/apache2.0/ or in the \"license\" file accompanying this file. This file is distributed on an \"AS IS\" BASIS, WITHOUT WARRANTIES OR CONDITIONS OF ANY KIND, either express or implied. See the License for the specific language governing permissions and limitations under the License."
 },
 "nbformat": 4,
 "nbformat_minor": 2
}
