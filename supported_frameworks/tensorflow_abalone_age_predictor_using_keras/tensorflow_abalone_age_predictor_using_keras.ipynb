{
 "cells": [
  {
   "cell_type": "markdown",
   "metadata": {},
   "source": [
    "# Keras を使ったモデルの学習と推論を SageMaker で行う\n",
    "\n",
    "#### ノートブックに含まれる内容\n",
    "\n",
    "- Keras API を SageMaker で使うときの，基本的なやりかた\n",
    "- `tf.keras.applications` をベースに Keras のコンパイル済みモデルを SageMaker で使うときの説明\n",
    "\n",
    "#### ノートブックで使われている手法の詳細\n",
    "\n",
    "- アルゴリズム: DNN\n",
    "- データ: Abalone"
   ]
  },
  {
   "cell_type": "markdown",
   "metadata": {},
   "source": [
    "## セットアップ"
   ]
  },
  {
   "cell_type": "code",
   "execution_count": null,
   "metadata": {
    "collapsed": true
   },
   "outputs": [],
   "source": [
    "import os\n",
    "import sagemaker\n",
    "from sagemaker import get_execution_role\n",
    "\n",
    "sagemaker_session = sagemaker.Session()\n",
    "\n",
    "role = get_execution_role()"
   ]
  },
  {
   "cell_type": "markdown",
   "metadata": {},
   "source": [
    "## データのロード\n",
    "\n",
    "ローカルのデータを S3 にアップロードします．使用する [Abalone](https://en.wikipedia.org/wiki/Abalone) データは，貝殻の長さや高さ，重さといったパラメタをもとに，アワビの年齢を推測するというものになります．[Abalone データセット](https://archive.ics.uci.edu/ml/datasets/Abalone)には以下の[特徴量](https://archive.ics.uci.edu/ml/machine-learning-databases/abalone/abalone.names)が含まれています．\n",
    "\n",
    "| Feature        | Description                                               |\n",
    "| -------------- | --------------------------------------------------------- |\n",
    "| Length         | 貝殻の長さ (最もと長い方向で測った時，単位は mm)                 |\n",
    "| Diameter       | 貝殻の直径 (単位は mm)                                       |\n",
    "| Height         | 貝殻の高さ (中身が入っている時の高さで，単位は mm)               |\n",
    "| Whole Weight   | 貝全体の重さ (単位はグラム)                                   |\n",
    "| Shucked Weight | アワビ本体だけの重さ (単位はグラム)                            |\n",
    "| Viscera Weight | 血を抜いた後の内臓の重さ (単位はグラム)                         |\n",
    "| Shell Weight   | 貝殻自体の重さ (単位はグラム)                                 |\n",
    "\n",
    "予測対象のラベルデータは，貝殻の成長線の数で，これは年齢の近似値になります．以下を実行する前に，**<span style=\"color: red;\"> `data/あabalone/XX` の `XX` を指定された適切な数字に変更</span>**してください"
   ]
  },
  {
   "cell_type": "code",
   "execution_count": null,
   "metadata": {},
   "outputs": [],
   "source": [
    "inputs = sagemaker_session.upload_data(path='data', key_prefix='data/abalone/XX')"
   ]
  },
  {
   "cell_type": "markdown",
   "metadata": {},
   "source": [
    "## Keras を使ったスクリプトの中身を確認\n",
    "\n",
    "`tf.keras.layers` 等を使ってモデルを組むだけであれば，基本的には Tensorflow のときと違いはほとんどありません．ネットワークの記述を行って以降は，Tensorflow で損失関数やオプティマイザ等を記述する形になります．\n",
    "\n",
    "また，`tf.keras.applications` など，既存のモデルをそのまま使う場合には，以下のように `keras_model_fn` でコンパイル済みモデルを記述します．詳細は[こちら](https://github.com/aws/sagemaker-python-sdk#using-a-keras-model-instead-of-a-model_fn)をご覧ください．\n",
    "\n",
    "```python\n",
    "def keras_model_fn(hyperparameters):\n",
    "  # Instantiate a Keras inception v3 model.\n",
    "  keras_inception_v3 = tf.keras.applications.inception_v3.InceptionV3(weights=None)\n",
    "  # Compile model with the optimizer, loss, and metrics you'd like to train with.\n",
    "  keras_inception_v3.compile(optimizer=tf.keras.optimizers.SGD(lr=0.0001, momentum=0.9),\n",
    "                        loss='categorical_crossentropy', metric='accuracy')\n",
    "  return keras_inception_v3\n",
    "```\n",
    "\n",
    "実際に実行するスクリプトの中身を確認しましょう．"
   ]
  },
  {
   "cell_type": "code",
   "execution_count": null,
   "metadata": {
    "scrolled": false
   },
   "outputs": [],
   "source": [
    "!cat 'abalone.py'"
   ]
  },
  {
   "cell_type": "markdown",
   "metadata": {},
   "source": [
    "## モデルの学習を実行\n",
    "\n",
    "以降は，通常のTensorflow の学習・推論プロセスと同様です．"
   ]
  },
  {
   "cell_type": "code",
   "execution_count": null,
   "metadata": {
    "scrolled": false
   },
   "outputs": [],
   "source": [
    "from sagemaker.tensorflow import TensorFlow\n",
    "\n",
    "abalone_estimator = TensorFlow(entry_point='abalone.py',\n",
    "                               role=role,\n",
    "                               training_steps= 100,                                  \n",
    "                               evaluation_steps= 100,\n",
    "                               hyperparameters={'learning_rate': 0.001},\n",
    "                               train_instance_count=1,\n",
    "                               train_instance_type='ml.m4.xlarge')\n",
    "\n",
    "abalone_estimator.fit(inputs)"
   ]
  },
  {
   "cell_type": "markdown",
   "metadata": {},
   "source": [
    "## モデルの推論を実行\n",
    "\n",
    "`deploy()` メソッドを使って，学習済みモデルのデプロイを実施します．それが完了したら，`predict()` メソッドで実際に予測を行ってみます．"
   ]
  },
  {
   "cell_type": "code",
   "execution_count": null,
   "metadata": {},
   "outputs": [],
   "source": [
    "abalone_predictor = abalone_estimator.deploy(initial_instance_count=1, instance_type='ml.m4.xlarge')"
   ]
  },
  {
   "cell_type": "code",
   "execution_count": null,
   "metadata": {
    "collapsed": true
   },
   "outputs": [],
   "source": [
    "import tensorflow as tf\n",
    "import numpy as np\n",
    "\n",
    "# ローカルのデータを読み込んで，1 行を protbuf にエンコードしてリクエストを投げる\n",
    "prediction_set = tf.contrib.learn.datasets.base.load_csv_without_header(\n",
    "    filename=os.path.join('data/abalone_predict.csv'), target_dtype=np.int, features_dtype=np.float32)\n",
    "\n",
    "data = prediction_set.data[0]\n",
    "tensor_proto = tf.make_tensor_proto(values=np.asarray(data), shape=[1, len(data)], dtype=tf.float32)"
   ]
  },
  {
   "cell_type": "code",
   "execution_count": null,
   "metadata": {},
   "outputs": [],
   "source": [
    "abalone_predictor.predict(tensor_proto)"
   ]
  },
  {
   "cell_type": "markdown",
   "metadata": {},
   "source": [
    "## エンドポイントの削除\n",
    "\n",
    "全て終わったら，エンドポイントを削除します．"
   ]
  },
  {
   "cell_type": "code",
   "execution_count": null,
   "metadata": {},
   "outputs": [],
   "source": [
    "sagemaker.Session().delete_endpoint(abalone_predictor.endpoint)"
   ]
  }
 ],
 "metadata": {
  "kernelspec": {
   "display_name": "conda_tensorflow_p27",
   "language": "python",
   "name": "conda_tensorflow_p27"
  },
  "language_info": {
   "codemirror_mode": {
    "name": "ipython",
    "version": 2
   },
   "file_extension": ".py",
   "mimetype": "text/x-python",
   "name": "python",
   "nbconvert_exporter": "python",
   "pygments_lexer": "ipython2",
   "version": "2.7.14"
  },
  "notice": "Copyright 2017 Amazon.com, Inc. or its affiliates. All Rights Reserved.  Licensed under the Apache License, Version 2.0 (the \"License\"). You may not use this file except in compliance with the License. A copy of the License is located at http://aws.amazon.com/apache2.0/ or in the \"license\" file accompanying this file. This file is distributed on an \"AS IS\" BASIS, WITHOUT WARRANTIES OR CONDITIONS OF ANY KIND, either express or implied. See the License for the specific language governing permissions and limitations under the License."
 },
 "nbformat": 4,
 "nbformat_minor": 2
}
